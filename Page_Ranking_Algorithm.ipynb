{
 "cells": [
  {
   "cell_type": "code",
   "execution_count": 74,
   "id": "ce59371d",
   "metadata": {},
   "outputs": [],
   "source": [
    "import os\n",
    "import sys\n",
    "import math\n",
    "import numpy as np\n",
    "import pandas as pd"
   ]
  },
  {
   "cell_type": "code",
   "execution_count": 75,
   "id": "375b7c31",
   "metadata": {},
   "outputs": [],
   "source": [
    "with open('2A.txt', mode = 'r') as file:\n",
    "    Lines = file.readlines()"
   ]
  },
  {
   "cell_type": "code",
   "execution_count": 76,
   "id": "b1058304",
   "metadata": {},
   "outputs": [
    {
     "name": "stdout",
     "output_type": "stream",
     "text": [
      "[[1, 2], [2, 1], [2, 3], [3, 2], [3, 4], [4, 3]]\n"
     ]
    },
    {
     "data": {
      "text/plain": [
       "[[0, 1, 0, 0], [1, 0, 1, 0], [0, 1, 0, 1], [0, 0, 1, 0]]"
      ]
     },
     "execution_count": 76,
     "metadata": {},
     "output_type": "execute_result"
    }
   ],
   "source": [
    "edges = []\n",
    "x = 0\n",
    "for line in Lines:\n",
    "    if x <= 1:\n",
    "        x = x + 1\n",
    "        if x == 1:\n",
    "            label1, num = line.split(' : ')\n",
    "            num = int(num)\n",
    "            rows, cols = (num, num)\n",
    "            mat = [[0 for i in range(cols)] for j in range(rows)]\n",
    "    else:\n",
    "        edges.append(list(map(int, line.split(', '))))\n",
    "\n",
    "for row in edges:\n",
    "    mat[row[0] - 1][row[1] - 1] = 1\n",
    "\n",
    "print(edges)\n",
    "mat"
   ]
  },
  {
   "cell_type": "code",
   "execution_count": 77,
   "id": "ec1fe6ec",
   "metadata": {},
   "outputs": [
    {
     "data": {
      "text/plain": [
       "[1, 2, 2, 1]"
      ]
     },
     "execution_count": 77,
     "metadata": {},
     "output_type": "execute_result"
    }
   ],
   "source": [
    "ones = []\n",
    "for row in mat:\n",
    "    y = 0\n",
    "    for elem in row:\n",
    "        if elem == 1:\n",
    "            y = y + 1\n",
    "    ones.append(y)\n",
    "    \n",
    "ones"
   ]
  },
  {
   "cell_type": "code",
   "execution_count": 78,
   "id": "cc41b390",
   "metadata": {},
   "outputs": [],
   "source": [
    "def gen_nodes(mat, edges):\n",
    "    nodes = set()\n",
    "    for row in edges:\n",
    "        nodes.add(row[0])\n",
    "        nodes.add(row[1])\n",
    "    return sorted(nodes)"
   ]
  },
  {
   "cell_type": "code",
   "execution_count": 79,
   "id": "de11e995",
   "metadata": {},
   "outputs": [
    {
     "data": {
      "text/plain": [
       "[1, 2, 3, 4]"
      ]
     },
     "execution_count": 79,
     "metadata": {},
     "output_type": "execute_result"
    }
   ],
   "source": [
    "nodes = gen_nodes(mat, edges)\n",
    "nodes"
   ]
  },
  {
   "cell_type": "markdown",
   "id": "5d571b85",
   "metadata": {},
   "source": [
    "# Generating Probability Transition Matrix"
   ]
  },
  {
   "cell_type": "code",
   "execution_count": 80,
   "id": "9c6be737",
   "metadata": {},
   "outputs": [],
   "source": [
    "def gen_ptm(alpha, ones):\n",
    "    tel_ptm = [[0 for i in range(cols)] for j in range(rows)]\n",
    "    nontel_ptm = [[0 for i in range(cols)] for j in range(rows)]\n",
    "    \n",
    "    for a in range(num):\n",
    "        for b in range(num):\n",
    "            if mat[a][b] == 1:\n",
    "                tel_ptm[a][b] = (1 - alpha)/ones[a]\n",
    "                nontel_ptm[a][b] = 1/ones[a]\n",
    "            else:\n",
    "                tel_ptm[a][b] = alpha/(num - ones[a])\n",
    "                \n",
    "    return tel_ptm, nontel_ptm"
   ]
  },
  {
   "cell_type": "code",
   "execution_count": 81,
   "id": "dd340719",
   "metadata": {},
   "outputs": [
    {
     "data": {
      "text/plain": [
       "[[0.03333333333333333, 0.9, 0.03333333333333333, 0.03333333333333333],\n",
       " [0.45, 0.05, 0.45, 0.05],\n",
       " [0.05, 0.45, 0.05, 0.45],\n",
       " [0.03333333333333333, 0.03333333333333333, 0.9, 0.03333333333333333]]"
      ]
     },
     "execution_count": 81,
     "metadata": {},
     "output_type": "execute_result"
    }
   ],
   "source": [
    "tel_ptm, nontel_ptm = gen_ptm(0.1, ones)\n",
    "tel_ptm"
   ]
  },
  {
   "cell_type": "markdown",
   "id": "cf0c19bc",
   "metadata": {},
   "source": [
    "# Left Principle Eigenvalue Vector Method"
   ]
  },
  {
   "cell_type": "code",
   "execution_count": 82,
   "id": "15d0394b",
   "metadata": {},
   "outputs": [],
   "source": [
    "def gen_pagerank(mat):\n",
    "    np_mat = np.array(mat)\n",
    "    v, V = np.linalg.eig(np_mat.T)\n",
    "    score = V[:, v.argmax()].T\n",
    "    score = score / score.sum()\n",
    "    score = score.real\n",
    "    return score"
   ]
  },
  {
   "cell_type": "code",
   "execution_count": 83,
   "id": "0565b7b6",
   "metadata": {},
   "outputs": [],
   "source": [
    "lev_tel = gen_pagerank(tel_ptm)\n",
    "lev_nontel = gen_pagerank(nontel_ptm)"
   ]
  },
  {
   "cell_type": "code",
   "execution_count": 84,
   "id": "a999fd83",
   "metadata": {},
   "outputs": [
    {
     "data": {
      "text/plain": [
       "[(3, 0.326), (2, 0.326), (4, 0.174), (1, 0.174)]"
      ]
     },
     "execution_count": 84,
     "metadata": {},
     "output_type": "execute_result"
    }
   ],
   "source": [
    "lev_map = {}\n",
    "for x in range(len(nodes)):\n",
    "    lev_map[nodes[x]] = round(lev_tel[x], 3)\n",
    "\n",
    "lev_map_sorted = sorted(lev_map.items(), key = lambda kv:(kv[1], kv[0]), reverse = True)\n",
    "lev_map_sorted"
   ]
  },
  {
   "cell_type": "code",
   "execution_count": 85,
   "id": "f8be4311",
   "metadata": {},
   "outputs": [
    {
     "data": {
      "text/plain": [
       "[(3, 0.333), (2, 0.333), (4, 0.167), (1, 0.167)]"
      ]
     },
     "execution_count": 85,
     "metadata": {},
     "output_type": "execute_result"
    }
   ],
   "source": [
    "nonlev_map = {}\n",
    "for x in range(len(nodes)):\n",
    "    nonlev_map[nodes[x]] = round(lev_nontel[x], 3)\n",
    "\n",
    "nonlev_map_sorted = sorted(nonlev_map.items(), key = lambda kv:(kv[1], kv[0]), reverse = True)\n",
    "nonlev_map_sorted"
   ]
  },
  {
   "cell_type": "markdown",
   "id": "248b60b9",
   "metadata": {},
   "source": [
    "# Power Iteration Method"
   ]
  },
  {
   "cell_type": "code",
   "execution_count": 86,
   "id": "368c95ad",
   "metadata": {},
   "outputs": [],
   "source": [
    "def abs_diff(state, old_state):\n",
    "    delta = state - old_state\n",
    "    return math.sqrt(delta.dot(delta))"
   ]
  },
  {
   "cell_type": "code",
   "execution_count": 87,
   "id": "4c3cc38d",
   "metadata": {},
   "outputs": [],
   "source": [
    "def initial_state(num):\n",
    "    initial_prob = 1.0 / num\n",
    "    start = []\n",
    "    for x in range(num):\n",
    "        start.append(initial_prob)\n",
    "    return pd.Series(start)"
   ]
  },
  {
   "cell_type": "code",
   "execution_count": 88,
   "id": "549122ba",
   "metadata": {},
   "outputs": [],
   "source": [
    "def power_iteration(prob_mat, epsilon=0.00001, max_iter=1000):\n",
    "\n",
    "    prob_mat = pd.DataFrame(prob_mat)\n",
    "    state = initial_state(num)\n",
    "\n",
    "    # Power iteration:\n",
    "    for x in range(max_iter):\n",
    "        prev_state = state.copy()\n",
    "        state = state.dot(prob_mat)\n",
    "        if abs_diff(state, prev_state) < epsilon:\n",
    "            break\n",
    "\n",
    "    return state"
   ]
  },
  {
   "cell_type": "code",
   "execution_count": 89,
   "id": "f295728e",
   "metadata": {},
   "outputs": [],
   "source": [
    "mat1 = power_iteration(tel_ptm)\n",
    "mat2 = power_iteration(nontel_ptm)"
   ]
  },
  {
   "cell_type": "code",
   "execution_count": 90,
   "id": "0f38cf62",
   "metadata": {},
   "outputs": [
    {
     "data": {
      "text/plain": [
       "[(3, 0.326), (2, 0.326), (4, 0.174), (1, 0.174)]"
      ]
     },
     "execution_count": 90,
     "metadata": {},
     "output_type": "execute_result"
    }
   ],
   "source": [
    "levpi_map = {}\n",
    "for x in range(len(nodes)):\n",
    "    levpi_map[nodes[x]] = round(mat1[x], 3)\n",
    "\n",
    "levpi_map_sorted = sorted(levpi_map.items(), key = lambda kv:(kv[1], kv[0]), reverse = True)\n",
    "levpi_map_sorted"
   ]
  },
  {
   "cell_type": "code",
   "execution_count": 91,
   "id": "f1bffa30",
   "metadata": {},
   "outputs": [
    {
     "data": {
      "text/plain": [
       "[(3, 0.333), (2, 0.333), (4, 0.167), (1, 0.167)]"
      ]
     },
     "execution_count": 91,
     "metadata": {},
     "output_type": "execute_result"
    }
   ],
   "source": [
    "non_levpi_map = {}\n",
    "for x in range(len(nodes)):\n",
    "    non_levpi_map[nodes[x]] = round(mat2[x], 3)\n",
    "\n",
    "non_levpi_map_sorted = sorted(non_levpi_map.items(), key = lambda kv:(kv[1], kv[0]), reverse = True)\n",
    "non_levpi_map_sorted"
   ]
  }
 ],
 "metadata": {
  "kernelspec": {
   "display_name": "Python 3 (ipykernel)",
   "language": "python",
   "name": "python3"
  },
  "language_info": {
   "codemirror_mode": {
    "name": "ipython",
    "version": 3
   },
   "file_extension": ".py",
   "mimetype": "text/x-python",
   "name": "python",
   "nbconvert_exporter": "python",
   "pygments_lexer": "ipython3",
   "version": "3.8.12"
  }
 },
 "nbformat": 4,
 "nbformat_minor": 5
}
